{
 "cells": [
  {
   "cell_type": "code",
   "execution_count": 1,
   "metadata": {},
   "outputs": [
    {
     "name": "stderr",
     "output_type": "stream",
     "text": [
      "c:\\Users\\ASUS\\anaconda3\\envs\\torch\\lib\\site-packages\\tqdm\\auto.py:22: TqdmWarning: IProgress not found. Please update jupyter and ipywidgets. See https://ipywidgets.readthedocs.io/en/stable/user_install.html\n",
      "  from .autonotebook import tqdm as notebook_tqdm\n"
     ]
    },
    {
     "name": "stdout",
     "output_type": "stream",
     "text": [
      "0 NVIDIA GeForce RTX 3060 Laptop GPU\n"
     ]
    }
   ],
   "source": [
    "import torch, torchdata, torchtext\n",
    "from torch import nn\n",
    "\n",
    "import time\n",
    "\n",
    "#1. puffer - it's outdated....\n",
    "#2. spend some money - 300 baht get collab pro\n",
    "\n",
    "device = torch.device('cuda' if torch.cuda.is_available() else 'cpu')\n",
    "print(torch.cuda.current_device(),torch.cuda.get_device_name(torch.cuda.current_device()))\n",
    "\n",
    "#reproducibility \n",
    "SEED = 1234\n",
    "torch.manual_seed(SEED)\n",
    "torch.backends.cudnn.deterministic = True"
   ]
  },
  {
   "cell_type": "code",
   "execution_count": 2,
   "metadata": {},
   "outputs": [
    {
     "name": "stdout",
     "output_type": "stream",
     "text": [
      "True\n"
     ]
    }
   ],
   "source": [
    "print(torch.cuda.is_available())"
   ]
  },
  {
   "cell_type": "code",
   "execution_count": 3,
   "metadata": {},
   "outputs": [
    {
     "name": "stdout",
     "output_type": "stream",
     "text": [
      "Tue Feb 14 22:35:50 2023       \n",
      "+-----------------------------------------------------------------------------+\n",
      "| NVIDIA-SMI 512.78       Driver Version: 512.78       CUDA Version: 11.6     |\n",
      "|-------------------------------+----------------------+----------------------+\n",
      "| GPU  Name            TCC/WDDM | Bus-Id        Disp.A | Volatile Uncorr. ECC |\n",
      "| Fan  Temp  Perf  Pwr:Usage/Cap|         Memory-Usage | GPU-Util  Compute M. |\n",
      "|                               |                      |               MIG M. |\n",
      "|===============================+======================+======================|\n",
      "|   0  NVIDIA GeForce ... WDDM  | 00000000:01:00.0 Off |                  N/A |\n",
      "| N/A   40C    P8    10W /  N/A |      0MiB /  6144MiB |      0%      Default |\n",
      "|                               |                      |                  N/A |\n",
      "+-------------------------------+----------------------+----------------------+\n",
      "                                                                               \n",
      "+-----------------------------------------------------------------------------+\n",
      "| Processes:                                                                  |\n",
      "|  GPU   GI   CI        PID   Type   Process name                  GPU Memory |\n",
      "|        ID   ID                                                   Usage      |\n",
      "|=============================================================================|\n",
      "|    0   N/A  N/A     23264    C+G   ...n64\\EpicGamesLauncher.exe    N/A      |\n",
      "+-----------------------------------------------------------------------------+\n"
     ]
    }
   ],
   "source": [
    "! nvidia-smi"
   ]
  },
  {
   "attachments": {},
   "cell_type": "markdown",
   "metadata": {},
   "source": [
    "## Load dataset"
   ]
  },
  {
   "cell_type": "code",
   "execution_count": 4,
   "metadata": {},
   "outputs": [],
   "source": [
    "from torchtext.datasets import SST2\n",
    "\n",
    "# load Stanford Sentiment Treebank v2\n",
    "train_datapipe = SST2(split=\"train\")"
   ]
  },
  {
   "cell_type": "code",
   "execution_count": 5,
   "metadata": {},
   "outputs": [
    {
     "data": {
      "text/plain": [
       "[('hide new secretions from the parental units', 0),\n",
       " ('contains no wit , only labored gags', 0),\n",
       " ('that loves its characters and communicates something rather beautiful about human nature',\n",
       "  1),\n",
       " ('remains utterly satisfied to remain the same throughout', 0),\n",
       " ('on the worst revenge-of-the-nerds clichés the filmmakers could dredge up',\n",
       "  0),\n",
       " (\"that 's far too tragic to merit such superficial treatment\", 0),\n",
       " ('demonstrates that the director of such hollywood blockbusters as patriot games can still turn out a small , personal film with an emotional wallop .',\n",
       "  1),\n",
       " ('of saucy', 1),\n",
       " (\"a depressed fifteen-year-old 's suicidal poetry\", 0),\n",
       " (\"are more deeply thought through than in most ` right-thinking ' films\", 1)]"
      ]
     },
     "execution_count": 5,
     "metadata": {},
     "output_type": "execute_result"
    }
   ],
   "source": [
    "# dataset example\n",
    "list(iter(train_datapipe))[:10]"
   ]
  },
  {
   "cell_type": "code",
   "execution_count": 6,
   "metadata": {},
   "outputs": [],
   "source": [
    "# load val\n",
    "val = SST2(split=\"dev\")"
   ]
  },
  {
   "cell_type": "code",
   "execution_count": 7,
   "metadata": {},
   "outputs": [],
   "source": [
    "# split train for test if we want\n",
    "train, test = train_datapipe.random_split(total_length=len(list(iter(train_datapipe))), weights = {\"smaller_train\": 0.98, \"test\": 0.02}, seed=999)"
   ]
  },
  {
   "cell_type": "code",
   "execution_count": 8,
   "metadata": {},
   "outputs": [
    {
     "data": {
      "text/plain": [
       "(66002, 872, 1347)"
      ]
     },
     "execution_count": 8,
     "metadata": {},
     "output_type": "execute_result"
    }
   ],
   "source": [
    "# see number each set\n",
    "train_size = len(list(iter(train)))\n",
    "val_size   = len(list(iter(val)))\n",
    "test_size   = len(list(iter(test)))\n",
    "train_size, val_size ,test_size"
   ]
  },
  {
   "cell_type": "code",
   "execution_count": 9,
   "metadata": {},
   "outputs": [
    {
     "data": {
      "text/plain": [
       "{0, 1}"
      ]
     },
     "execution_count": 9,
     "metadata": {},
     "output_type": "execute_result"
    }
   ],
   "source": [
    "# label\n",
    "set([x for y, x in list(iter(train_datapipe))])"
   ]
  },
  {
   "attachments": {},
   "cell_type": "markdown",
   "metadata": {},
   "source": [
    "## Preprocess"
   ]
  },
  {
   "cell_type": "code",
   "execution_count": 10,
   "metadata": {},
   "outputs": [],
   "source": [
    "from torchtext.data.utils import get_tokenizer\n",
    "\n",
    "tokenizer = get_tokenizer('spacy', language='en_core_web_sm')"
   ]
  },
  {
   "cell_type": "code",
   "execution_count": 11,
   "metadata": {},
   "outputs": [],
   "source": [
    "from torchtext.vocab import build_vocab_from_iterator\n",
    "\n",
    "def yield_tokens(data_iter):  #data_iter, e.g., train\n",
    "    for text,_  in data_iter:\n",
    "        yield tokenizer(text)\n",
    "        \n",
    "vocab = build_vocab_from_iterator(yield_tokens(train_datapipe), specials=['<unk>', '<pad>',\n",
    "                                                                 '<bos>', '<eos>'])\n",
    "\n",
    "vocab.set_default_index(vocab[\"<unk>\"]) #if you don't the id of this word, set it unk\n",
    "\n",
    "id2word = vocab.get_itos() # get id to word\n",
    "\n"
   ]
  },
  {
   "cell_type": "code",
   "execution_count": 12,
   "metadata": {},
   "outputs": [],
   "source": [
    "word2index = {v:idx  for idx, v in enumerate(id2word)}"
   ]
  },
  {
   "cell_type": "code",
   "execution_count": 13,
   "metadata": {},
   "outputs": [],
   "source": [
    "# save json in case we need it \n",
    "import json\n",
    "\n",
    "json_dir = \"vocab.json\"\n",
    "try:\n",
    "    with open(json_dir, \"r\") as file:\n",
    "        data = json.load(file)\n",
    "except FileNotFoundError:\n",
    "    data = {}\n",
    "    with open(json_dir, \"w\") as file:\n",
    "        json.dump(data, file)\n",
    "except json.decoder.JSONDecodeError:\n",
    "    data = {}\n",
    "\n",
    "data = word2index\n",
    "\n",
    "# Write updated data to file\n",
    "with open(json_dir, \"w\") as file:\n",
    "    json.dump(data, file,indent=4, separators=(',', ': '))\n"
   ]
  },
  {
   "cell_type": "code",
   "execution_count": 14,
   "metadata": {},
   "outputs": [
    {
     "data": {
      "text/plain": [
       "([0, 944, 42, 3535, 10, 27, 940, 3009, 9], [1, 2, 3], 13891)"
      ]
     },
     "execution_count": 14,
     "metadata": {},
     "output_type": "execute_result"
    }
   ],
   "source": [
    "# test\n",
    "vocab(['Chaky', 'wants', 'his', 'student', 'to', 'be', 'number', '1', '.']),vocab(['<pad>', '<bos>', '<eos>']),len(vocab)"
   ]
  },
  {
   "cell_type": "code",
   "execution_count": 15,
   "metadata": {},
   "outputs": [
    {
     "data": {
      "text/plain": [
       "[0, 944, 42, 3535, 10, 27, 940, 3009, 9]"
      ]
     },
     "execution_count": 15,
     "metadata": {},
     "output_type": "execute_result"
    }
   ],
   "source": [
    "vocab(['Chaky', 'wants', 'his', 'student', 'to', 'be', 'number', '1', '.'])"
   ]
  },
  {
   "cell_type": "code",
   "execution_count": 16,
   "metadata": {},
   "outputs": [
    {
     "data": {
      "text/plain": [
       "list"
      ]
     },
     "execution_count": 16,
     "metadata": {},
     "output_type": "execute_result"
    }
   ],
   "source": [
    "type(vocab(['Chaky', 'wants', 'his', 'student', 'to', 'be', 'number', '1', '.']))"
   ]
  },
  {
   "cell_type": "code",
   "execution_count": 17,
   "metadata": {},
   "outputs": [
    {
     "name": "stdout",
     "output_type": "stream",
     "text": [
      "shape : torch.Size([13891, 300])\n"
     ]
    }
   ],
   "source": [
    "# embedding\n",
    "\n",
    "from torchtext.vocab import FastText\n",
    "fast_vectors = FastText(language='simple')\n",
    "\n",
    "fast_embedding = fast_vectors.get_vecs_by_tokens(vocab.get_itos()).to(device)\n",
    "\n",
    "print(f\"shape : {fast_embedding.shape}\")\n"
   ]
  },
  {
   "cell_type": "code",
   "execution_count": 18,
   "metadata": {},
   "outputs": [],
   "source": [
    "# prepare data loader\n",
    "\n",
    "text_pipeline  = lambda x: vocab(tokenizer(x))\n",
    "label_pipeline = lambda x: int(x)\n",
    "\n",
    "\n",
    "from torch.utils.data import DataLoader\n",
    "from torch.nn.utils.rnn import pad_sequence #making each batch same length\n",
    "\n",
    "pad_ix = vocab['<pad>']\n",
    "\n",
    "#this function gonna be called by DataLoader\n",
    "def collate_batch(batch):\n",
    "    label_list, text_list, length_list = [], [], []\n",
    "    for (_text,_label ) in batch:\n",
    "        label_list.append(label_pipeline(_label))  #[3, 1, 0, 2, ]\n",
    "        processed_text = torch.tensor(text_pipeline(_text), dtype=torch.int64) #[0, 44, 21, 2]\n",
    "        text_list.append(processed_text)\n",
    "        length_list.append(processed_text.size(0)) #for padding\n",
    "        \n",
    "    return torch.tensor(label_list, dtype=torch.int64), \\\n",
    "        pad_sequence(text_list, padding_value=pad_ix, batch_first=True), \\\n",
    "        torch.tensor(length_list, dtype=torch.int64)\n",
    "\n",
    "\n"
   ]
  },
  {
   "cell_type": "code",
   "execution_count": 19,
   "metadata": {},
   "outputs": [],
   "source": [
    "batch_size = 1024\n",
    "\n",
    "train_loader = DataLoader(train, batch_size = batch_size,\n",
    "                          shuffle=True, collate_fn=collate_batch)\n",
    "\n",
    "val_loader   = DataLoader(val, batch_size = batch_size,\n",
    "                          shuffle=True, collate_fn=collate_batch)\n",
    "\n",
    "test_loader   = DataLoader(test, batch_size = batch_size,\n",
    "                          shuffle=True, collate_fn=collate_batch)"
   ]
  },
  {
   "cell_type": "code",
   "execution_count": 20,
   "metadata": {},
   "outputs": [],
   "source": [
    "for label, text, length in train_loader:\n",
    "    break"
   ]
  },
  {
   "cell_type": "code",
   "execution_count": 21,
   "metadata": {},
   "outputs": [
    {
     "name": "stdout",
     "output_type": "stream",
     "text": [
      "Label shape:  torch.Size([1024])\n",
      "Text shape:  torch.Size([1024, 46])\n"
     ]
    }
   ],
   "source": [
    "print(\"Label shape: \", label.shape) # (batch_size, )\n",
    "print(\"Text shape: \", text.shape)   # (batch_size, seq len)"
   ]
  },
  {
   "cell_type": "code",
   "execution_count": 22,
   "metadata": {},
   "outputs": [],
   "source": [
    "train_loader_length = len(list(iter(train_loader)))\n",
    "val_loader_length   = len(list(iter(val_loader)))\n",
    "test_loader_length  = len(list(iter(test_loader)))"
   ]
  },
  {
   "attachments": {},
   "cell_type": "markdown",
   "metadata": {},
   "source": [
    "## Model"
   ]
  },
  {
   "cell_type": "code",
   "execution_count": 10,
   "metadata": {},
   "outputs": [],
   "source": [
    "class LSTM(nn.Module):\n",
    "    def __init__(self, input_dim, emb_dim, hid_dim, output_dim, num_layers, bidirectional, dropout):\n",
    "        super().__init__()\n",
    "        #put padding_idx so asking the embedding layer to ignore padding\n",
    "        self.embedding = nn.Embedding(input_dim, emb_dim, padding_idx=pad_ix)\n",
    "        self.lstm = nn.LSTM(emb_dim, \n",
    "                           hid_dim, \n",
    "                           num_layers=num_layers, \n",
    "                           bidirectional=bidirectional, \n",
    "                           dropout=dropout,\n",
    "                           batch_first=True)\n",
    "        self.fc = nn.Linear(hid_dim * 2, output_dim)\n",
    "        \n",
    "    def forward(self, text, text_lengths):\n",
    "        #text = [batch size, seq len]\n",
    "        embedded = self.embedding(text)\n",
    "        \n",
    "        #++ pack sequence ++\n",
    "        packed_embedded = nn.utils.rnn.pack_padded_sequence(embedded, text_lengths.to('cpu'), enforce_sorted=False, batch_first=True)\n",
    "        \n",
    "        #embedded = [batch size, seq len, embed dim]\n",
    "        packed_output, (hn, cn) = self.lstm(packed_embedded)  #if no h0, all zeroes\n",
    "        \n",
    "        #++ unpack in case we need to use it ++\n",
    "        output, output_lengths = nn.utils.rnn.pad_packed_sequence(packed_output, batch_first=True)\n",
    "        \n",
    "        #output = [batch size, seq len, hidden dim * num directions]\n",
    "        #output over padding tokens are zero tensors\n",
    "        \n",
    "        #hidden = [num layers * num directions, batch size, hid dim]\n",
    "        #cell = [num layers * num directions, batch size, hid dim]\n",
    "        \n",
    "        #concat the final forward (hidden[-2,:,:]) and backward (hidden[-1,:,:]) hidden layers\n",
    "        hn = torch.cat((hn[-2,:,:], hn[-1,:,:]), dim = 1)\n",
    "        #hn = [batch size, hidden dim * num directions]\n",
    "        \n",
    "        return self.fc(hn)\n",
    "        "
   ]
  },
  {
   "attachments": {},
   "cell_type": "markdown",
   "metadata": {},
   "source": [
    "## training"
   ]
  },
  {
   "cell_type": "code",
   "execution_count": 24,
   "metadata": {},
   "outputs": [],
   "source": [
    "def initialize_weights(m):\n",
    "    if isinstance(m, nn.Linear):\n",
    "        nn.init.xavier_normal_(m.weight)\n",
    "        nn.init.zeros_(m.bias)\n",
    "    elif isinstance(m, nn.LSTM):\n",
    "        for name, param in m.named_parameters():\n",
    "            if 'bias' in name:\n",
    "                nn.init.zeros_(param)\n",
    "            elif 'weight' in name:\n",
    "                nn.init.orthogonal_(param)"
   ]
  },
  {
   "cell_type": "code",
   "execution_count": 25,
   "metadata": {},
   "outputs": [],
   "source": [
    "#we can print the complexity by the number of parameters\n",
    "def count_parameters(model):\n",
    "    params = [p.numel() for p in model.parameters() if p.requires_grad]\n",
    "    for item in params:\n",
    "        print(f'{item:>6}')\n",
    "    print(f'______\\n{sum(params):>6}')\n",
    "    \n"
   ]
  },
  {
   "cell_type": "code",
   "execution_count": 26,
   "metadata": {},
   "outputs": [],
   "source": [
    "def accuracy(preds, y):\n",
    "    \n",
    "    predicted = torch.max(preds.data, 1)[1]\n",
    "    batch_corr = (predicted == y).sum()\n",
    "    acc = batch_corr / len(y)\n",
    "    \n",
    "    return acc"
   ]
  },
  {
   "cell_type": "code",
   "execution_count": 27,
   "metadata": {},
   "outputs": [],
   "source": [
    "def train(model, loader, optimizer, criterion, loader_length):\n",
    "    epoch_loss = 0\n",
    "    epoch_acc = 0\n",
    "    model.train() #useful for batchnorm and dropout\n",
    "    \n",
    "    for i, (label, text, text_length) in enumerate(loader): \n",
    "        label = label.to(device) #(batch_size, )\n",
    "        text = text.to(device) #(batch_size, seq len)\n",
    "                \n",
    "        #predict\n",
    "        predictions = model(text, text_length).squeeze(1) #output by the fc is (batch_size, 1), thus need to remove this 1\n",
    "        \n",
    "        #calculate loss\n",
    "        loss = criterion(predictions, label)\n",
    "        acc  = accuracy(predictions, label)\n",
    "        \n",
    "        #backprop\n",
    "        optimizer.zero_grad()\n",
    "        loss.backward()\n",
    "        optimizer.step()\n",
    "        \n",
    "        epoch_loss += loss.item()\n",
    "        epoch_acc += acc.item()\n",
    "                        \n",
    "    return epoch_loss / loader_length, epoch_acc / loader_length"
   ]
  },
  {
   "cell_type": "code",
   "execution_count": 28,
   "metadata": {},
   "outputs": [],
   "source": [
    "def evaluate(model, loader, criterion, loader_length):\n",
    "    epoch_loss = 0\n",
    "    epoch_acc = 0\n",
    "    model.eval()\n",
    "    \n",
    "    with torch.no_grad():\n",
    "        for i, (label, text, text_length) in enumerate(loader): \n",
    "            label = label.to(device) #(batch_size, )\n",
    "            text  = text.to(device)  #(seq len, batch_size)\n",
    "\n",
    "            predictions = model(text, text_length).squeeze(1) \n",
    "            \n",
    "            loss = criterion(predictions, label)\n",
    "            acc  = accuracy(predictions, label)\n",
    "\n",
    "            epoch_loss += loss.item()\n",
    "            epoch_acc += acc.item()\n",
    "        \n",
    "    return epoch_loss / loader_length, epoch_acc / loader_length"
   ]
  },
  {
   "cell_type": "code",
   "execution_count": 29,
   "metadata": {},
   "outputs": [],
   "source": [
    "def epoch_time(start_time, end_time):\n",
    "    elapsed_time = end_time - start_time\n",
    "    elapsed_mins = int(elapsed_time / 60)\n",
    "    elapsed_secs = int(elapsed_time - (elapsed_mins * 60))\n",
    "    return elapsed_mins, elapsed_secs"
   ]
  },
  {
   "cell_type": "code",
   "execution_count": 30,
   "metadata": {},
   "outputs": [],
   "source": [
    "import torch.optim as optim\n",
    "\n",
    "input_dim  = len(vocab)\n",
    "hid_dim    = 256\n",
    "emb_dim    = 300       \n",
    "output_dim = 2\n",
    "\n",
    "#for biLSTM\n",
    "num_layers = 2\n",
    "bidirectional = True\n",
    "dropout = 0.5\n",
    "\n",
    "model = LSTM(input_dim, emb_dim, hid_dim, output_dim, num_layers, bidirectional, dropout).to(device)\n",
    "model.apply(initialize_weights)\n",
    "model.embedding.weight.data = fast_embedding #**<------applied the fast text embedding as the initial weights\n",
    "\n",
    "lr=1e-5\n",
    "\n",
    "#training hyperparameters\n",
    "optimizer = optim.Adam(model.parameters(), lr=lr)\n",
    "criterion = nn.CrossEntropyLoss() #combine softmax with cross entropy"
   ]
  },
  {
   "cell_type": "code",
   "execution_count": 31,
   "metadata": {},
   "outputs": [
    {
     "name": "stdout",
     "output_type": "stream",
     "text": [
      "4167300\n",
      "307200\n",
      "262144\n",
      "  1024\n",
      "  1024\n",
      "307200\n",
      "262144\n",
      "  1024\n",
      "  1024\n",
      "524288\n",
      "262144\n",
      "  1024\n",
      "  1024\n",
      "524288\n",
      "262144\n",
      "  1024\n",
      "  1024\n",
      "  1024\n",
      "     2\n",
      "______\n",
      "6888070\n"
     ]
    }
   ],
   "source": [
    "count_parameters(model)"
   ]
  },
  {
   "cell_type": "code",
   "execution_count": 32,
   "metadata": {},
   "outputs": [
    {
     "data": {
      "text/plain": [
       "(27660800, 55312384)"
      ]
     },
     "execution_count": 32,
     "metadata": {},
     "output_type": "execute_result"
    }
   ],
   "source": [
    "(torch.cuda.memory_allocated(),torch.cuda.max_memory_allocated())"
   ]
  },
  {
   "cell_type": "code",
   "execution_count": 33,
   "metadata": {},
   "outputs": [
    {
     "name": "stdout",
     "output_type": "stream",
     "text": [
      "Epoch: 10 | Time: 0m 7s\n",
      "\tTrain Loss: 0.494 | Train Acc: 77.88%\n",
      "\t Val. Loss: 0.496 |  Val. Acc: 76.03%\n",
      "Epoch: 20 | Time: 0m 7s\n",
      "\tTrain Loss: 0.395 | Train Acc: 83.48%\n",
      "\t Val. Loss: 0.461 |  Val. Acc: 78.90%\n",
      "Epoch: 30 | Time: 0m 7s\n",
      "\tTrain Loss: 0.334 | Train Acc: 86.62%\n",
      "\t Val. Loss: 0.458 |  Val. Acc: 79.82%\n",
      "Epoch: 40 | Time: 0m 7s\n",
      "\tTrain Loss: 0.289 | Train Acc: 88.74%\n",
      "\t Val. Loss: 0.476 |  Val. Acc: 80.85%\n",
      "Epoch: 50 | Time: 0m 8s\n",
      "\tTrain Loss: 0.254 | Train Acc: 90.26%\n",
      "\t Val. Loss: 0.514 |  Val. Acc: 80.85%\n",
      "Epoch: 60 | Time: 0m 8s\n",
      "\tTrain Loss: 0.228 | Train Acc: 91.60%\n",
      "\t Val. Loss: 0.530 |  Val. Acc: 81.19%\n",
      "Epoch: 70 | Time: 0m 8s\n",
      "\tTrain Loss: 0.205 | Train Acc: 92.50%\n",
      "\t Val. Loss: 0.581 |  Val. Acc: 81.54%\n",
      "Epoch: 80 | Time: 0m 7s\n",
      "\tTrain Loss: 0.186 | Train Acc: 93.27%\n",
      "\t Val. Loss: 0.625 |  Val. Acc: 81.42%\n",
      "Epoch: 90 | Time: 0m 7s\n",
      "\tTrain Loss: 0.172 | Train Acc: 93.89%\n",
      "\t Val. Loss: 0.655 |  Val. Acc: 81.08%\n",
      "Epoch: 100 | Time: 0m 7s\n",
      "\tTrain Loss: 0.158 | Train Acc: 94.46%\n",
      "\t Val. Loss: 0.725 |  Val. Acc: 80.85%\n",
      "Epoch: 110 | Time: 0m 7s\n",
      "\tTrain Loss: 0.148 | Train Acc: 94.74%\n",
      "\t Val. Loss: 0.750 |  Val. Acc: 81.42%\n",
      "Epoch: 120 | Time: 0m 7s\n",
      "\tTrain Loss: 0.139 | Train Acc: 95.13%\n",
      "\t Val. Loss: 0.782 |  Val. Acc: 81.19%\n"
     ]
    }
   ],
   "source": [
    "best_valid_loss = float('inf')\n",
    "num_epochs      = 120\n",
    "\n",
    "save_path = f'models/{model.__class__.__name__}.pt'\n",
    "\n",
    "train_losses = []\n",
    "train_accs = []\n",
    "valid_losses = []\n",
    "valid_accs = []\n",
    "\n",
    "for epoch in range(num_epochs):\n",
    "    \n",
    "    start_time = time.time()\n",
    "\n",
    "    train_loss, train_acc = train(model, train_loader, optimizer, criterion, train_loader_length)\n",
    "    valid_loss, valid_acc = evaluate(model, val_loader, criterion, val_loader_length)\n",
    "    \n",
    "    #for plotting\n",
    "    train_losses.append(train_loss)\n",
    "    train_accs.append(train_acc)\n",
    "    valid_losses.append(valid_loss)\n",
    "    valid_accs.append(valid_acc)\n",
    "    \n",
    "    end_time = time.time()\n",
    "    \n",
    "    epoch_mins, epoch_secs = epoch_time(start_time, end_time)\n",
    "    \n",
    "    if valid_loss < best_valid_loss:\n",
    "        best_valid_loss = valid_loss\n",
    "        torch.save(model.state_dict(), save_path)\n",
    "    if (epoch+1)%10==0:\n",
    "        print(f'Epoch: {epoch+1:02} | Time: {epoch_mins}m {epoch_secs}s')\n",
    "        print(f'\\tTrain Loss: {train_loss:.3f} | Train Acc: {train_acc*100:.2f}%')\n",
    "        print(f'\\t Val. Loss: {valid_loss:.3f} |  Val. Acc: {valid_acc*100:.2f}%')"
   ]
  },
  {
   "cell_type": "code",
   "execution_count": 34,
   "metadata": {},
   "outputs": [
    {
     "data": {
      "text/plain": [
       "Text(0, 0.5, 'loss')"
      ]
     },
     "execution_count": 34,
     "metadata": {},
     "output_type": "execute_result"
    },
    {
     "data": {
      "image/png": "[encoded data removed]",
      "text/plain": [
       "<Figure size 1000x600 with 1 Axes>"
      ]
     },
     "metadata": {},
     "output_type": "display_data"
    }
   ],
   "source": [
    "import matplotlib.pyplot as plt\n",
    "fig = plt.figure(figsize=(10, 6))\n",
    "ax = fig.add_subplot(1, 1, 1)\n",
    "ax.plot(train_losses, label = 'train loss')\n",
    "ax.plot(valid_losses, label = 'valid loss')\n",
    "plt.legend()\n",
    "ax.set_xlabel('updates')\n",
    "ax.set_ylabel('loss')"
   ]
  },
  {
   "cell_type": "code",
   "execution_count": 35,
   "metadata": {},
   "outputs": [
    {
     "data": {
      "text/plain": [
       "Text(0, 0.5, 'acc')"
      ]
     },
     "execution_count": 35,
     "metadata": {},
     "output_type": "execute_result"
    },
    {
     "data": {
      "image/png": "[encoded data removed]",
      "text/plain": [
       "<Figure size 1000x600 with 1 Axes>"
      ]
     },
     "metadata": {},
     "output_type": "display_data"
    }
   ],
   "source": [
    "fig = plt.figure(figsize=(10, 6))\n",
    "ax = fig.add_subplot(1, 1, 1)\n",
    "ax.plot(train_accs, label = 'train acc')\n",
    "ax.plot(valid_accs, label = 'valid acc')\n",
    "plt.legend()\n",
    "ax.set_xlabel('updates')\n",
    "ax.set_ylabel('acc')"
   ]
  },
  {
   "cell_type": "code",
   "execution_count": 36,
   "metadata": {},
   "outputs": [
    {
     "name": "stdout",
     "output_type": "stream",
     "text": [
      "Test Loss: 0.325 | Test Acc: 87.25%\n"
     ]
    }
   ],
   "source": [
    "model.load_state_dict(torch.load(save_path))\n",
    "\n",
    "test_loss, test_acc = evaluate(model, test_loader, criterion, test_loader_length)\n",
    "\n",
    "print(f'Test Loss: {test_loss:.3f} | Test Acc: {test_acc*100:.2f}%')"
   ]
  },
  {
   "attachments": {},
   "cell_type": "markdown",
   "metadata": {},
   "source": [
    "## load and test sentence"
   ]
  },
  {
   "cell_type": "code",
   "execution_count": 37,
   "metadata": {},
   "outputs": [],
   "source": [
    "# test_datapipe = SST2(split=\"test\")"
   ]
  },
  {
   "cell_type": "code",
   "execution_count": 5,
   "metadata": {},
   "outputs": [],
   "source": [
    "from torch import nn\n",
    "import torch\n",
    "import json"
   ]
  },
  {
   "cell_type": "code",
   "execution_count": 1,
   "metadata": {},
   "outputs": [
    {
     "name": "stderr",
     "output_type": "stream",
     "text": [
      "c:\\Users\\ASUS\\anaconda3\\envs\\torch\\lib\\site-packages\\tqdm\\auto.py:22: TqdmWarning: IProgress not found. Please update jupyter and ipywidgets. See https://ipywidgets.readthedocs.io/en/stable/user_install.html\n",
      "  from .autonotebook import tqdm as notebook_tqdm\n"
     ]
    }
   ],
   "source": [
    "import spacy\n",
    "\n",
    "nlp = spacy.load(\"en_core_web_sm\")\n",
    "\n",
    "# use this instead of text_pipeline\n",
    "def text2index(txt,vocab_dict):\n",
    "    \n",
    "    txt_to = nlp(txt)\n",
    "\n",
    "    present = []\n",
    "    for word in txt_to:\n",
    "        \n",
    "        if str(word) in vocab_dict:\n",
    "            value = vocab_dict[str(word)]\n",
    "        else:\n",
    "            value = 0\n",
    "\n",
    "        present.append(value)      \n",
    "\n",
    "    return present\n"
   ]
  },
  {
   "cell_type": "code",
   "execution_count": 6,
   "metadata": {},
   "outputs": [],
   "source": [
    "json_dir =\"models/vocab.json\"\n",
    "with open(json_dir, \"r\") as file:\n",
    "    vocab_dict = json.load(file)\n"
   ]
  },
  {
   "cell_type": "code",
   "execution_count": 7,
   "metadata": {},
   "outputs": [
    {
     "data": {
      "text/plain": [
       "13891"
      ]
     },
     "execution_count": 7,
     "metadata": {},
     "output_type": "execute_result"
    }
   ],
   "source": [
    "len(vocab_dict)"
   ]
  },
  {
   "cell_type": "code",
   "execution_count": 8,
   "metadata": {},
   "outputs": [
    {
     "name": "stdout",
     "output_type": "stream",
     "text": [
      "[0, 944, 42, 3535, 10, 27, 940, 3009, 9]\n"
     ]
    }
   ],
   "source": [
    "text= 'Chaky wants his student to be number 1.'\n",
    "print(text2index(text,vocab_dict))"
   ]
  },
  {
   "cell_type": "code",
   "execution_count": 78,
   "metadata": {},
   "outputs": [
    {
     "data": {
      "text/plain": [
       "13891"
      ]
     },
     "execution_count": 78,
     "metadata": {},
     "output_type": "execute_result"
    }
   ],
   "source": [
    "len(vocab_dict)"
   ]
  },
  {
   "cell_type": "code",
   "execution_count": 12,
   "metadata": {},
   "outputs": [
    {
     "data": {
      "text/plain": [
       "<All keys matched successfully>"
      ]
     },
     "execution_count": 12,
     "metadata": {},
     "output_type": "execute_result"
    }
   ],
   "source": [
    "input_dim  = len(vocab_dict)\n",
    "hid_dim    = 256\n",
    "emb_dim    = 300       \n",
    "output_dim = 2\n",
    "save_path = \"models/LSTM.pt\"\n",
    "#for biLSTM\n",
    "num_layers = 2\n",
    "bidirectional = True\n",
    "dropout = 0.5\n",
    "pad_ix=1\n",
    "\n",
    "model_load = LSTM(input_dim, emb_dim, hid_dim, output_dim, num_layers, bidirectional, dropout)\n",
    "\n",
    "model_load.load_state_dict(torch.load(save_path))"
   ]
  },
  {
   "cell_type": "code",
   "execution_count": 13,
   "metadata": {},
   "outputs": [],
   "source": [
    "def predict(text, text_length):\n",
    "    with torch.no_grad():\n",
    "        output = model_load(text, text_length).squeeze(1)\n",
    "        predicted = torch.max(output.data, 1)[1]\n",
    "        return predicted"
   ]
  },
  {
   "cell_type": "code",
   "execution_count": 19,
   "metadata": {},
   "outputs": [
    {
     "data": {
      "text/plain": [
       "0"
      ]
     },
     "execution_count": 19,
     "metadata": {},
     "output_type": "execute_result"
    }
   ],
   "source": [
    "# negative \n",
    "test_str = \"this laptop is mulfuction\"\n",
    "text = torch.tensor(text2index(test_str,vocab_dict)).reshape(1, -1) \n",
    "text_length = torch.tensor([text.size(1)]).to(dtype=torch.int64)\n",
    "predict(text, text_length).item()"
   ]
  },
  {
   "cell_type": "code",
   "execution_count": 20,
   "metadata": {},
   "outputs": [
    {
     "data": {
      "text/plain": [
       "int"
      ]
     },
     "execution_count": 20,
     "metadata": {},
     "output_type": "execute_result"
    }
   ],
   "source": [
    "type(predict(text, text_length).item())"
   ]
  },
  {
   "cell_type": "code",
   "execution_count": 82,
   "metadata": {},
   "outputs": [
    {
     "data": {
      "text/plain": [
       "tensor([1])"
      ]
     },
     "execution_count": 82,
     "metadata": {},
     "output_type": "execute_result"
    }
   ],
   "source": [
    "#  positive\n",
    "test_str = \"this laptop is very good\"\n",
    "text = torch.tensor(text2index(test_str,vocab_dict)).reshape(1, -1) \n",
    "text_length = torch.tensor([text.size(1)]).to(dtype=torch.int64)\n",
    "predict(text, text_length)"
   ]
  },
  {
   "cell_type": "code",
   "execution_count": 83,
   "metadata": {},
   "outputs": [
    {
     "data": {
      "text/plain": [
       "tensor([0])"
      ]
     },
     "execution_count": 83,
     "metadata": {},
     "output_type": "execute_result"
    }
   ],
   "source": [
    "# negative positive = negative\n",
    "test_str = \"this laptop is not so good\"\n",
    "text = torch.tensor(text2index(test_str,vocab_dict)).reshape(1, -1) \n",
    "text_length = torch.tensor([text.size(1)]).to(dtype=torch.int64)\n",
    "predict(text, text_length)"
   ]
  },
  {
   "cell_type": "code",
   "execution_count": 88,
   "metadata": {},
   "outputs": [
    {
     "data": {
      "text/plain": [
       "tensor([0])"
      ]
     },
     "execution_count": 88,
     "metadata": {},
     "output_type": "execute_result"
    }
   ],
   "source": [
    "# negative negative = positive\n",
    "test_str = \"this laptop never make me disappointed\"\n",
    "text = torch.tensor(text2index(test_str,vocab_dict)).reshape(1, -1) \n",
    "text_length = torch.tensor([text.size(1)]).to(dtype=torch.int64)\n",
    "predict(text, text_length)\n",
    "\n",
    "# T^T fail"
   ]
  },
  {
   "attachments": {},
   "cell_type": "markdown",
   "metadata": {},
   "source": [
    "## twitter scraper"
   ]
  },
  {
   "cell_type": "code",
   "execution_count": 85,
   "metadata": {},
   "outputs": [
    {
     "name": "stdout",
     "output_type": "stream",
     "text": [
      "1625527896126128128 2023-02-14 23:10:25 +0700 <gameofbitcoin> Ladies and Gentlemen  May I present to you the European Central Bank  this is why #Bitcoin  https://t.co/k57i6QIsp6\n",
      "1625527893718622217 2023-02-14 23:10:25 +0700 <CriptoBrasil> #Notícias Bitcoin (BTC) a US$ 500.000 é questão de tempo, dizem especialistas  https://t.co/VsOUrrYbOQ\n",
      "1625527890954559495 2023-02-14 23:10:24 +0700 <CryptoCState> #Bitcoin Dips After Inflation Comes in Slightly Hot.  The Consumer Price Index (#CPI) for January rose 0.5% versus 0.1% a month earlier, and in line with economist forecasts.  https://t.co/VDmYHhQGcl\n",
      "1625527888576663553 2023-02-14 23:10:24 +0700 <Bitclaser> 👉[Power's Cryptocurrency Rise and Exit Strategies] [DooriDoori 14/2/23] 🔔🔔🔔🔔🔔🔔🔔 👇👇👇👇👇👇👇  https://t.co/ReQnkEQmlv  @DooridooriCoin #dooridoori #doorinati  #bitcoin #crypto  https://t.co/UjePRLthiX\n",
      "1625527871325487104 2023-02-14 23:10:20 +0700 <oligarchlite> Share market aur bitcoin mujhe samjh nahi aata  Mene toh Nari property banani hai 😤\n",
      "1625527864354344962 2023-02-14 23:10:18 +0700 <alesparlatrade> @DMusanni Certo, io non mi voglio arricchire con #Bitcoin, non vado in bancarotta come molti altri\n",
      "1625527861003051008 2023-02-14 23:10:17 +0700 <OsiCrypt> The beauty of Bitcoin is that it's borderless - it doesn't matter where you're from, anyone can participate in the crypto economy. #globalization #digitalcurrency  https://t.co/ybhkFo4nmP\n",
      "1625527856305430528 2023-02-14 23:10:16 +0700 <Arthur_van_Pelt> @CormacTaylor7 @cryptzzzzz @Tak_Horigoshi No, I'm not. The whitepaper says that Bitcoin PoW is essentially \"1 CPU is 1 vote\" to determine majority. And full nodes, who verify and relay incoming blocks after voting \"yes\" do have a CPU.\n",
      "1625527854418075648 2023-02-14 23:10:15 +0700 <JamesHebertJr1> @GrantCardone @btc $10,000 in what? Bitcoin?\n",
      "1625527854409854978 2023-02-14 23:10:15 +0700 <CryptoStr8> The CryptoCap 10 Index was down -0.66% (2/13) &amp; is down -5.52% MTD  Month To Date: #BTC -5.75% #ETH -5.00% #BNB -5.72% #ADA -8.01% #DOGE -14.57% #MATIC +7.21% #SOL -13.19% #DOT -2.24% #LTC -3.38% #SHIB +5.59%  #CryptoCap10Index #altcoins #bitcoin #cryptocurrency #crypto $BTC $ETH  https://t.co/poLvCZfSkZ\n",
      "Ladies and Gentlemen  May I present to you the European Central Bank  this is why #Bitcoin  https://t.co/k57i6QIsp6\n",
      "#Notícias Bitcoin (BTC) a US$ 500.000 é questão de tempo, dizem especialistas  https://t.co/VsOUrrYbOQ\n",
      "#Bitcoin Dips After Inflation Comes in Slightly Hot.  The Consumer Price Index (#CPI) for January rose 0.5% versus 0.1% a month earlier, and in line with economist forecasts.  https://t.co/VDmYHhQGcl\n",
      "👉[Power's Cryptocurrency Rise and Exit Strategies] [DooriDoori 14/2/23] 🔔🔔🔔🔔🔔🔔🔔 👇👇👇👇👇👇👇  https://t.co/ReQnkEQmlv  @DooridooriCoin #dooridoori #doorinati  #bitcoin #crypto  https://t.co/UjePRLthiX\n",
      "Share market aur bitcoin mujhe samjh nahi aata  Mene toh Nari property banani hai 😤\n",
      "@DMusanni Certo, io non mi voglio arricchire con #Bitcoin, non vado in bancarotta come molti altri\n",
      "The beauty of Bitcoin is that it's borderless - it doesn't matter where you're from, anyone can participate in the crypto economy. #globalization #digitalcurrency  https://t.co/ybhkFo4nmP\n",
      "@CormacTaylor7 @cryptzzzzz @Tak_Horigoshi No, I'm not. The whitepaper says that Bitcoin PoW is essentially \"1 CPU is 1 vote\" to determine majority. And full nodes, who verify and relay incoming blocks after voting \"yes\" do have a CPU.\n",
      "@GrantCardone @btc $10,000 in what? Bitcoin?\n",
      "The CryptoCap 10 Index was down -0.66% (2/13) &amp; is down -5.52% MTD  Month To Date: #BTC -5.75% #ETH -5.00% #BNB -5.72% #ADA -8.01% #DOGE -14.57% #MATIC +7.21% #SOL -13.19% #DOT -2.24% #LTC -3.38% #SHIB +5.59%  #CryptoCap10Index #altcoins #bitcoin #cryptocurrency #crypto $BTC $ETH  https://t.co/poLvCZfSkZ\n"
     ]
    }
   ],
   "source": [
    "import nest_asyncio # need this if run in ipynb\n",
    "nest_asyncio.apply() #\n",
    "\n",
    "import twint\n",
    "\n",
    "c = twint.Config()\n",
    "\n",
    "# c.Username = 'noneprivacy' \n",
    "c.Search = \"bitcoin\" # keyword\n",
    "c.Limit = 10 \n",
    "c.Store_object = True \n",
    "twint.run.Search(c)\n",
    "tweets = twint.output.tweets_list\n",
    "\n",
    "for tw in tweets:\n",
    "    print(tw.tweet) # str"
   ]
  },
  {
   "attachments": {},
   "cell_type": "markdown",
   "metadata": {},
   "source": [
    "## plot hist (just test)"
   ]
  },
  {
   "cell_type": "code",
   "execution_count": 27,
   "metadata": {},
   "outputs": [
    {
     "data": {
      "image/png": "[encoded data removed]",
      "text/plain": [
       "<Figure size 640x480 with 1 Axes>"
      ]
     },
     "metadata": {},
     "output_type": "display_data"
    }
   ],
   "source": [
    "import numpy as np\n",
    "import matplotlib.pyplot as plt\n",
    "\n",
    "import matplotlib.pyplot as plt\n",
    "\n",
    "# Example data\n",
    "positive_data = 10\n",
    "negative_data = 5\n",
    "total_data = positive_data + negative_data\n",
    "\n",
    "# Calculate percentages\n",
    "positive_percent = positive_data / total_data * 100\n",
    "negative_percent = negative_data / total_data * 100\n",
    "\n",
    "# Create a bar chart with two bars\n",
    "plt.bar(['Positive', 'Negative'], [positive_percent, negative_percent])\n",
    "\n",
    "# Add labels and title\n",
    "plt.xlabel('Data')\n",
    "plt.ylabel('Percentage')\n",
    "plt.title('Histogram of Positive and Negative Data')\n",
    "\n",
    "# Display the chart\n",
    "plt.show()\n"
   ]
  },
  {
   "cell_type": "code",
   "execution_count": 30,
   "metadata": {},
   "outputs": [],
   "source": [
    "import datetime\n",
    "name = datetime.datetime.now().strftime(\"%Y%m%d_%H%M%S\")"
   ]
  },
  {
   "cell_type": "code",
   "execution_count": 32,
   "metadata": {},
   "outputs": [
    {
     "name": "stdout",
     "output_type": "stream",
     "text": [
      "<class 'str'>\n"
     ]
    }
   ],
   "source": [
    "print(type(name))"
   ]
  },
  {
   "attachments": {},
   "cell_type": "markdown",
   "metadata": {},
   "source": [
    "## Conclusion   \n",
    "\n",
    "It can't classify negative negative sentence but can classify the rest. \n",
    "\n",
    "To improve model maybe we can use hyperparameter tuning or change dataset or else .. don't know"
   ]
  }
 ],
 "metadata": {
  "kernelspec": {
   "display_name": "torch",
   "language": "python",
   "name": "python3"
  },
  "language_info": {
   "codemirror_mode": {
    "name": "ipython",
    "version": 3
   },
   "file_extension": ".py",
   "mimetype": "text/x-python",
   "name": "python",
   "nbconvert_exporter": "python",
   "pygments_lexer": "ipython3",
   "version": "3.10.9"
  },
  "orig_nbformat": 4,
  "vscode": {
   "interpreter": {
    "hash": "12b51c3a15c6d04bbe25e0ed0a8589f4bf8f73b3e40dc1f9d202d81fcb7450ab"
   }
  }
 },
 "nbformat": 4,
 "nbformat_minor": 2
}
